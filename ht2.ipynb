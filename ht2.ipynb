{
 "cells": [
  {
   "cell_type": "code",
   "execution_count": 1,
   "metadata": {},
   "outputs": [],
   "source": [
    "import pandas as pd\n",
    "import pefile\n",
    "from capstone import *"
   ]
  },
  {
   "cell_type": "code",
   "execution_count": 2,
   "metadata": {},
   "outputs": [
    {
     "name": "stdout",
     "output_type": "stream",
     "text": [
      "SECCIONES \t\n",
      "b'.text\\x00\\x00\\x00' 0x1000 0x69b0 28672\n",
      "b'.rdata\\x00\\x00' 0x8000 0x5f70 24576\n",
      "b'.data\\x00\\x00\\x00' 0xe000 0x1958 8192\n",
      "b'.rsrc\\x00\\x00\\x00' 0x10000 0x349fa0 3448832\n"
     ]
    }
   ],
   "source": [
    "pe = pefile.PE(\"./MALWR/sample_vg655_25th.exe\")\n",
    "print('SECCIONES \\t')\n",
    "for section in pe.sections:\n",
    "    print(section.Name, hex(section.VirtualAddress), hex(section.Misc_VirtualSize), section.SizeOfRawData)"
   ]
  },
  {
   "cell_type": "code",
   "execution_count": 3,
   "metadata": {},
   "outputs": [
    {
     "name": "stdout",
     "output_type": "stream",
     "text": [
      "LLAMADAS A DLL \t\n",
      "b'KERNEL32.dll'\n",
      "LLAMADAS A FUNCIONES \t\n",
      "\t b'GetFileAttributesW'\n",
      "\t b'GetFileSizeEx'\n",
      "\t b'CreateFileA'\n",
      "\t b'InitializeCriticalSection'\n",
      "\t b'DeleteCriticalSection'\n",
      "\t b'ReadFile'\n",
      "\t b'GetFileSize'\n",
      "\t b'WriteFile'\n",
      "\t b'LeaveCriticalSection'\n",
      "\t b'EnterCriticalSection'\n",
      "\t b'SetFileAttributesW'\n",
      "\t b'SetCurrentDirectoryW'\n",
      "\t b'CreateDirectoryW'\n",
      "\t b'GetTempPathW'\n",
      "\t b'GetWindowsDirectoryW'\n",
      "\t b'GetFileAttributesA'\n",
      "\t b'SizeofResource'\n",
      "\t b'LockResource'\n",
      "\t b'LoadResource'\n",
      "\t b'MultiByteToWideChar'\n",
      "\t b'Sleep'\n",
      "\t b'OpenMutexA'\n",
      "\t b'GetFullPathNameA'\n",
      "\t b'CopyFileA'\n",
      "\t b'GetModuleFileNameA'\n",
      "\t b'VirtualAlloc'\n",
      "\t b'VirtualFree'\n",
      "\t b'FreeLibrary'\n",
      "\t b'HeapAlloc'\n",
      "\t b'GetProcessHeap'\n",
      "\t b'GetModuleHandleA'\n",
      "\t b'SetLastError'\n",
      "\t b'VirtualProtect'\n",
      "\t b'IsBadReadPtr'\n",
      "\t b'HeapFree'\n",
      "\t b'SystemTimeToFileTime'\n",
      "\t b'LocalFileTimeToFileTime'\n",
      "\t b'CreateDirectoryA'\n",
      "\t b'GetStartupInfoA'\n",
      "\t b'SetFilePointer'\n",
      "\t b'SetFileTime'\n",
      "\t b'GetComputerNameW'\n",
      "\t b'GetCurrentDirectoryA'\n",
      "\t b'SetCurrentDirectoryA'\n",
      "\t b'GlobalAlloc'\n",
      "\t b'LoadLibraryA'\n",
      "\t b'GetProcAddress'\n",
      "\t b'GlobalFree'\n",
      "\t b'CreateProcessA'\n",
      "\t b'CloseHandle'\n",
      "\t b'WaitForSingleObject'\n",
      "\t b'TerminateProcess'\n",
      "\t b'GetExitCodeProcess'\n",
      "\t b'FindResourceA'\n",
      "LLAMADAS A DLL \t\n",
      "b'USER32.dll'\n",
      "LLAMADAS A FUNCIONES \t\n",
      "\t b'wsprintfA'\n",
      "LLAMADAS A DLL \t\n",
      "b'ADVAPI32.dll'\n",
      "LLAMADAS A FUNCIONES \t\n",
      "\t b'CreateServiceA'\n",
      "\t b'OpenServiceA'\n",
      "\t b'StartServiceA'\n",
      "\t b'CloseServiceHandle'\n",
      "\t b'CryptReleaseContext'\n",
      "\t b'RegCreateKeyW'\n",
      "\t b'RegSetValueExA'\n",
      "\t b'RegQueryValueExA'\n",
      "\t b'RegCloseKey'\n",
      "\t b'OpenSCManagerA'\n",
      "LLAMADAS A DLL \t\n",
      "b'MSVCRT.dll'\n",
      "LLAMADAS A FUNCIONES \t\n",
      "\t b'realloc'\n",
      "\t b'fclose'\n",
      "\t b'fwrite'\n",
      "\t b'fread'\n",
      "\t b'fopen'\n",
      "\t b'sprintf'\n",
      "\t b'rand'\n",
      "\t b'srand'\n",
      "\t b'strcpy'\n",
      "\t b'memset'\n",
      "\t b'strlen'\n",
      "\t b'wcscat'\n",
      "\t b'wcslen'\n",
      "\t b'__CxxFrameHandler'\n",
      "\t b'??3@YAXPAX@Z'\n",
      "\t b'memcmp'\n",
      "\t b'_except_handler3'\n",
      "\t b'_local_unwind2'\n",
      "\t b'wcsrchr'\n",
      "\t b'swprintf'\n",
      "\t b'??2@YAPAXI@Z'\n",
      "\t b'memcpy'\n",
      "\t b'strcmp'\n",
      "\t b'strrchr'\n",
      "\t b'__p___argv'\n",
      "\t b'__p___argc'\n",
      "\t b'_stricmp'\n",
      "\t b'free'\n",
      "\t b'malloc'\n",
      "\t b'??0exception@@QAE@ABV0@@Z'\n",
      "\t b'??1exception@@UAE@XZ'\n",
      "\t b'??0exception@@QAE@ABQBD@Z'\n",
      "\t b'_CxxThrowException'\n",
      "\t b'calloc'\n",
      "\t b'strcat'\n",
      "\t b'_mbsstr'\n",
      "\t b'??1type_info@@UAE@XZ'\n",
      "\t b'_exit'\n",
      "\t b'_XcptFilter'\n",
      "\t b'exit'\n",
      "\t b'_acmdln'\n",
      "\t b'__getmainargs'\n",
      "\t b'_initterm'\n",
      "\t b'__setusermatherr'\n",
      "\t b'_adjust_fdiv'\n",
      "\t b'__p__commode'\n",
      "\t b'__p__fmode'\n",
      "\t b'__set_app_type'\n",
      "\t b'_controlfp'\n"
     ]
    }
   ],
   "source": [
    "for entry in pe.DIRECTORY_ENTRY_IMPORT:\n",
    "    print('LLAMADAS A DLL \\t')\n",
    "    print (entry.dll)\n",
    "    print('LLAMADAS A FUNCIONES \\t')\n",
    "    for function in entry.imports:\n",
    "        print ('\\t', function.name)"
   ]
  },
  {
   "cell_type": "code",
   "execution_count": 4,
   "metadata": {},
   "outputs": [
    {
     "name": "stdout",
     "output_type": "stream",
     "text": [
      "TimeDateStamp : Sat Nov 20 09:05:05 2010 UTC\n",
      "TimeDateStamp: 0x4ce78f41\n"
     ]
    }
   ],
   "source": [
    "print(\"TimeDateStamp : \" + pe.FILE_HEADER.dump_dict()['TimeDateStamp']['Value'].split('[')[1][:-1])\n",
    "print(\"TimeDateStamp: \"+hex(pe.FILE_HEADER.TimeDateStamp))"
   ]
  },
  {
   "cell_type": "code",
   "execution_count": 5,
   "metadata": {},
   "outputs": [
    {
     "name": "stdout",
     "output_type": "stream",
     "text": [
      "SECCIONES \t\n",
      "b'UPX0\\x00\\x00\\x00\\x00' 0x1000 0x5000 0\n",
      "b'UPX1\\x00\\x00\\x00\\x00' 0x6000 0x1000 4096\n",
      "b'.rsrc\\x00\\x00\\x00' 0x7000 0x1000 512\n"
     ]
    }
   ],
   "source": [
    "pe2 = pefile.PE(\"./MALWR/sample_qwrty_dk2\")\n",
    "print('SECCIONES \\t')\n",
    "for section in pe2.sections:\n",
    "    print(section.Name, hex(section.VirtualAddress), hex(section.Misc_VirtualSize), section.SizeOfRawData)"
   ]
  },
  {
   "cell_type": "code",
   "execution_count": 6,
   "metadata": {},
   "outputs": [
    {
     "name": "stdout",
     "output_type": "stream",
     "text": [
      "LLAMADAS A DLL \t\n",
      "b'KERNEL32.DLL'\n",
      "LLAMADAS A FUNCIONES \t\n",
      "\t b'LoadLibraryA'\n",
      "\t b'ExitProcess'\n",
      "\t b'GetProcAddress'\n",
      "\t b'VirtualProtect'\n",
      "LLAMADAS A DLL \t\n",
      "b'MSVCRT.dll'\n",
      "LLAMADAS A FUNCIONES \t\n",
      "\t b'atol'\n",
      "LLAMADAS A DLL \t\n",
      "b'SHELL32.dll'\n",
      "LLAMADAS A FUNCIONES \t\n",
      "\t b'SHChangeNotify'\n",
      "LLAMADAS A DLL \t\n",
      "b'USER32.dll'\n",
      "LLAMADAS A FUNCIONES \t\n",
      "\t b'LoadStringA'\n",
      "LLAMADAS A DLL \t\n",
      "b'WS2_32.dll'\n",
      "LLAMADAS A FUNCIONES \t\n",
      "\t b'closesocket'\n"
     ]
    }
   ],
   "source": [
    "for entry in pe2.DIRECTORY_ENTRY_IMPORT:\n",
    "    print('LLAMADAS A DLL \\t')\n",
    "    print (entry.dll)\n",
    "    print('LLAMADAS A FUNCIONES \\t')\n",
    "    for function in entry.imports:\n",
    "        print ('\\t', function.name)"
   ]
  },
  {
   "cell_type": "code",
   "execution_count": 7,
   "metadata": {},
   "outputs": [
    {
     "name": "stdout",
     "output_type": "stream",
     "text": [
      "TimeDateStamp : Thu May 14 17:12:40 2009 UTC\n",
      "TimeDateStamp: 0x4a0c5108\n"
     ]
    }
   ],
   "source": [
    "print(\"TimeDateStamp : \" + pe2.FILE_HEADER.dump_dict()['TimeDateStamp']['Value'].split('[')[1][:-1])\n",
    "print(\"TimeDateStamp: \"+hex(pe2.FILE_HEADER.TimeDateStamp))"
   ]
  },
  {
   "attachments": {},
   "cell_type": "markdown",
   "metadata": {},
   "source": [
    "1. Las llamadas a las dll son una mas en sample_qwrty_dk2 pero esto no quiere decir que sea sospechoso ya que el otro archivo utiliza las mismas librerias exceptuando una, lo realmente curioso es la cantidad de funciones que sample_vg655_25th.exe utiliza, son significativamente mayores sin mencionar el uso de funciones poco comunes dentro de la dll de msvcrt.dll."
   ]
  },
  {
   "attachments": {},
   "cell_type": "markdown",
   "metadata": {},
   "source": [
    "2. El uso de Upx implica el uso de un software con el mismo nombre de upx que es muy comun en la creacion de malwares, lo que indicaria que puede estar relacionado a malware."
   ]
  },
  {
   "attachments": {},
   "cell_type": "markdown",
   "metadata": {},
   "source": [
    "3. Estan relacionadas a las categorias de lee y escribir archivos asi como la obtencion de informacion\n"
   ]
  },
  {
   "cell_type": "code",
   "execution_count": 12,
   "metadata": {},
   "outputs": [
    {
     "data": {
      "text/html": [
       "<div>\n",
       "<style scoped>\n",
       "    .dataframe tbody tr th:only-of-type {\n",
       "        vertical-align: middle;\n",
       "    }\n",
       "\n",
       "    .dataframe tbody tr th {\n",
       "        vertical-align: top;\n",
       "    }\n",
       "\n",
       "    .dataframe thead th {\n",
       "        text-align: right;\n",
       "    }\n",
       "</style>\n",
       "<table border=\"1\" class=\"dataframe\">\n",
       "  <thead>\n",
       "    <tr style=\"text-align: right;\">\n",
       "      <th></th>\n",
       "      <th>APIs</th>\n",
       "      <th>Categorias</th>\n",
       "    </tr>\n",
       "  </thead>\n",
       "  <tbody>\n",
       "    <tr>\n",
       "      <th>0</th>\n",
       "      <td>ReadFile</td>\n",
       "      <td>Read/Write Files</td>\n",
       "    </tr>\n",
       "    <tr>\n",
       "      <th>1</th>\n",
       "      <td>CreateFile</td>\n",
       "      <td>Read/Write Files</td>\n",
       "    </tr>\n",
       "    <tr>\n",
       "      <th>2</th>\n",
       "      <td>CreateFileA</td>\n",
       "      <td>Read/Write Files</td>\n",
       "    </tr>\n",
       "    <tr>\n",
       "      <th>3</th>\n",
       "      <td>GetShortPathNameA</td>\n",
       "      <td>Get File Information</td>\n",
       "    </tr>\n",
       "    <tr>\n",
       "      <th>4</th>\n",
       "      <td>GetFileAttributesW</td>\n",
       "      <td>Get File Information</td>\n",
       "    </tr>\n",
       "  </tbody>\n",
       "</table>\n",
       "</div>"
      ],
      "text/plain": [
       "                 APIs            Categorias\n",
       "0            ReadFile      Read/Write Files\n",
       "1          CreateFile      Read/Write Files\n",
       "2         CreateFileA      Read/Write Files\n",
       "3   GetShortPathNameA  Get File Information\n",
       "4  GetFileAttributesW  Get File Information"
      ]
     },
     "execution_count": 12,
     "metadata": {},
     "output_type": "execute_result"
    }
   ],
   "source": [
    "apis = pd.DataFrame(data={'APIs':['ReadFile','CreateFile','CreateFileA','GetShortPathNameA','GetFileAttributesW'],'Categorias':['Read/Write Files','Read/Write Files','Read/Write Files','Get File Information','Get File Information']})\n",
    "apis"
   ]
  },
  {
   "attachments": {},
   "cell_type": "markdown",
   "metadata": {},
   "source": [
    "# 4.\n",
    "![imagen1](s1.jpg)"
   ]
  },
  {
   "attachments": {},
   "cell_type": "markdown",
   "metadata": {},
   "source": [
    "5. Es para el registro y administracion de servicios de windows, en el caso del ejemplo se puede notar el uso para crear, registrar e iniciar un serivicio lo cual es sospechoso."
   ]
  },
  {
   "attachments": {},
   "cell_type": "markdown",
   "metadata": {},
   "source": [
    "6. Es un servicio para funcoines criptograficas y el uso de un contenedor de claves usado por el usuario."
   ]
  },
  {
   "attachments": {},
   "cell_type": "markdown",
   "metadata": {},
   "source": [
    "7. Si es sospechoso por la cantidad de apis que utiliza, las cuales son relacionadas a la creacion, movimiento y escritura de archivos lo cual involucra ejecutar operaciones peligorsas dentro del sistema, sin mencionar el uso de servicios criptograficos dentro de la dll de registro y administracion de servicios del sistema. El proposito de este posible malware se basa en los arvhicos del usuario para hacer uso de estos."
   ]
  },
  {
   "attachments": {},
   "cell_type": "markdown",
   "metadata": {},
   "source": [
    "8. Si coincide el hash y el malware que se detecta es omo_im_not_ramsomware_xd el cual nos da la clara idea de que es un ramsomware el cual bloquea la compu para el acceso del usuario encriptando sus archivos preciados y exigiendo un pago por la liberacion de los mismos.\n",
    "![imagen2](s2.jpg)"
   ]
  },
  {
   "attachments": {},
   "cell_type": "markdown",
   "metadata": {},
   "source": [
    "9. Exactamente el ramsomware hace uso de los archivos del usuario para realizar acciones que perjudican al usuario que fue justamente lo que se sospecho en el inciso 7 que era el uso de los archivos del usuario.\n",
    "![s3](d.png)\n",
    "![s4](s3.jpeg)"
   ]
  }
 ],
 "metadata": {
  "kernelspec": {
   "display_name": "Python 3",
   "language": "python",
   "name": "python3"
  },
  "language_info": {
   "codemirror_mode": {
    "name": "ipython",
    "version": 3
   },
   "file_extension": ".py",
   "mimetype": "text/x-python",
   "name": "python",
   "nbconvert_exporter": "python",
   "pygments_lexer": "ipython3",
   "version": "3.10.6"
  },
  "orig_nbformat": 4
 },
 "nbformat": 4,
 "nbformat_minor": 2
}
